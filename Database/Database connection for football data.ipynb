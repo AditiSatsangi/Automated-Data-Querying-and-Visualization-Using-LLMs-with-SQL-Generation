{
  "cells": [
    {
      "cell_type": "code",
      "execution_count": 4,
      "metadata": {
        "id": "dALeOvUnMRlO"
      },
      "outputs": [],
      "source": [
        "import sqlite3 as sq\n",
        "import pandas as pd"
      ]
    },
    {
      "cell_type": "code",
      "execution_count": 5,
      "metadata": {
        "id": "CFGasdW4MMrC"
      },
      "outputs": [],
      "source": [
        "database = sq.connect(\"sport.db\")"
      ]
    },
    {
      "cell_type": "code",
      "execution_count": 6,
      "metadata": {
        "colab": {
          "base_uri": "https://localhost:8080/"
        },
        "id": "vIIMUs9VMMrC",
        "outputId": "da4e7708-0054-42b5-993d-ff9f7e7b76c4"
      },
      "outputs": [
        {
          "data": {
            "text/plain": [
              "<sqlite3.Cursor at 0x7ff252550b40>"
            ]
          },
          "execution_count": 6,
          "metadata": {},
          "output_type": "execute_result"
        }
      ],
      "source": [
        "database.execute('''\n",
        "                CREATE TABLE football (\n",
        "                player_id int,\n",
        "                name char(20) DEFAULT NULL,\n",
        "                nationality char(20) DEFAULT NULL,\n",
        "                matches int DEFAULT NULL,\n",
        "                goals int DEFAULT NULL,\n",
        "                assists int DEFAULT 0,\n",
        "                minutes_played int DEFAULT 0,\n",
        "                shots int DEFAULT 0,\n",
        "                shots_on_target int DEFAULT 0,\n",
        "                fouls_committed int DEFAULT 0,\n",
        "                yellow_cards int DEFAULT 0,\n",
        "                red_cards int DEFAULT 0,\n",
        "                PRIMARY KEY (`player_id`)\n",
        "                );\n",
        "                ''')\n"
      ]
    },
    {
      "cell_type": "code",
      "execution_count": 7,
      "metadata": {
        "colab": {
          "base_uri": "https://localhost:8080/"
        },
        "id": "qDoQPl7tMMrD",
        "outputId": "e72a21d9-003d-4c97-a157-fa98b2fc33bf"
      },
      "outputs": [
        {
          "data": {
            "text/plain": [
              "<sqlite3.Cursor at 0x7ff2525526c0>"
            ]
          },
          "execution_count": 7,
          "metadata": {},
          "output_type": "execute_result"
        }
      ],
      "source": [
        "database.execute(\"insert into football values (1, 'ronaldo', 'portugal', 10,5,2,900,15,10,3,1,0),(2,'Lionel Messi','Argentina',9,6,4,810,18,10,3,2,0),(3,'Neymar Jr','Brazil',11,7,5,990,22,15,7,2,0),(4,'Kylian Mbappe','France',12,9,2,1080,25,18,4,1,0),(5,'Mohamed Salah','Egypt',8,5,3,720,15,10,6,0,0),(6,'Robert Lewandowski','Poland',11,10,1,990,23,16,3,0,0),(7,'Harry Kane','England',10,7,3,900,19,12,4,1,0),(8,'Kevin De Bruyne','Belgium',9,3,8,810,12,6,9,1,0),(9,'Sergio Ramos','Spain',10,2,1,900,5,3,15,3,1),(10,'Luis Suarez','Uruguay',7,4,3,630,10,6,5,1,0);\")\n"
      ]
    },
    {
      "cell_type": "code",
      "execution_count": 8,
      "metadata": {
        "id": "qEk7LVRoMMrE"
      },
      "outputs": [],
      "source": [
        "database.commit()"
      ]
    },
    {
      "cell_type": "code",
      "execution_count": 9,
      "metadata": {
        "id": "2qcIhZazMMrE"
      },
      "outputs": [],
      "source": [
        "data = database.execute(\"select * from football;\")"
      ]
    },
    {
      "cell_type": "code",
      "execution_count": 10,
      "metadata": {
        "colab": {
          "base_uri": "https://localhost:8080/"
        },
        "id": "RkizgSB9MMrF",
        "outputId": "1f85d238-3a7e-4040-a24c-3f2d8930827f"
      },
      "outputs": [
        {
          "name": "stdout",
          "output_type": "stream",
          "text": [
            "(1, 'ronaldo', 'portugal', 10, 5, 2, 900, 15, 10, 3, 1, 0)\n",
            "(2, 'Lionel Messi', 'Argentina', 9, 6, 4, 810, 18, 10, 3, 2, 0)\n",
            "(3, 'Neymar Jr', 'Brazil', 11, 7, 5, 990, 22, 15, 7, 2, 0)\n",
            "(4, 'Kylian Mbappe', 'France', 12, 9, 2, 1080, 25, 18, 4, 1, 0)\n",
            "(5, 'Mohamed Salah', 'Egypt', 8, 5, 3, 720, 15, 10, 6, 0, 0)\n",
            "(6, 'Robert Lewandowski', 'Poland', 11, 10, 1, 990, 23, 16, 3, 0, 0)\n",
            "(7, 'Harry Kane', 'England', 10, 7, 3, 900, 19, 12, 4, 1, 0)\n",
            "(8, 'Kevin De Bruyne', 'Belgium', 9, 3, 8, 810, 12, 6, 9, 1, 0)\n",
            "(9, 'Sergio Ramos', 'Spain', 10, 2, 1, 900, 5, 3, 15, 3, 1)\n",
            "(10, 'Luis Suarez', 'Uruguay', 7, 4, 3, 630, 10, 6, 5, 1, 0)\n"
          ]
        }
      ],
      "source": [
        "for i in data:\n",
        "    print(i)"
      ]
    },
    {
      "cell_type": "code",
      "execution_count": 5,
      "metadata": {
        "id": "RW8XGpuDy1F9"
      },
      "outputs": [],
      "source": [
        "# Connect to the SQLite database (or create it if it doesn't exist)\n",
        "conn = sqlite3.connect('Sport.db')\n",
        "\n",
        "# Create a cursor object to execute SQL commands\n",
        "cursor = conn.cursor()"
      ]
    },
    {
      "cell_type": "code",
      "execution_count": 6,
      "metadata": {
        "colab": {
          "base_uri": "https://localhost:8080/"
        },
        "id": "u9LE_matzEhH",
        "outputId": "e6320468-5885-42a6-ce01-0387124edc00"
      },
      "outputs": [
        {
          "name": "stdout",
          "output_type": "stream",
          "text": [
            "(1, 'Updated Name', 'Updated Nationality', 10, 5, 2, 900, 15, 10, 3, 1, 0)\n",
            "(2, 'Lionel Messi', 'Argentina', 9, 6, 4, 810, 18, 10, 3, 2, 0)\n",
            "(3, 'Neymar Jr', 'Brazil', 11, 7, 5, 990, 22, 15, 7, 2, 0)\n",
            "(4, 'Kylian Mbappe', 'France', 12, 9, 2, 1080, 25, 18, 4, 1, 0)\n",
            "(5, 'Mohamed Salah', 'Egypt', 8, 5, 3, 720, 15, 10, 6, 0, 0)\n",
            "(6, 'Robert Lewandowski', 'Poland', 11, 10, 1, 990, 23, 16, 3, 0, 0)\n",
            "(7, 'Harry Kane', 'England', 10, 7, 3, 900, 19, 12, 4, 1, 0)\n",
            "(8, 'Kevin De Bruyne', 'Belgium', 9, 3, 8, 810, 12, 6, 9, 1, 0)\n",
            "(9, 'Sergio Ramos', 'Spain', 10, 2, 1, 900, 5, 3, 15, 3, 1)\n",
            "(10, 'Luis Suarez', 'Uruguay', 7, 4, 3, 630, 10, 6, 5, 1, 0)\n"
          ]
        }
      ],
      "source": [
        "# Select all data from the football table\n",
        "cursor.execute('SELECT * FROM football')\n",
        "rows = cursor.fetchall()\n",
        "\n",
        "# Print the data\n",
        "for row in rows:\n",
        "    print(row)"
      ]
    },
    {
      "cell_type": "code",
      "execution_count": null,
      "metadata": {
        "id": "oHPES8mnzHeh"
      },
      "outputs": [],
      "source": []
    }
  ],
  "metadata": {
    "colab": {
      "provenance": []
    },
    "kernelspec": {
      "display_name": "Python 3",
      "language": "python",
      "name": "python3"
    },
    "language_info": {
      "codemirror_mode": {
        "name": "ipython",
        "version": 3
      },
      "file_extension": ".py",
      "mimetype": "text/x-python",
      "name": "python",
      "nbconvert_exporter": "python",
      "pygments_lexer": "ipython3",
      "version": "3.11.4"
    },
    "orig_nbformat": 4
  },
  "nbformat": 4,
  "nbformat_minor": 0
}
