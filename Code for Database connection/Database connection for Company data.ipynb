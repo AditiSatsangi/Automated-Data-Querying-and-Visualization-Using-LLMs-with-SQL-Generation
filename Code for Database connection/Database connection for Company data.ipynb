{
  "cells": [
    {
      "cell_type": "code",
      "execution_count": 1,
      "metadata": {
        "id": "8LTHVViWX6MC"
      },
      "outputs": [
        {
          "name": "stdout",
          "output_type": "stream",
          "text": [
            "Collecting mysql-connector-python\n",
            "  Downloading mysql_connector_python-9.0.0-cp310-cp310-win_amd64.whl.metadata (2.0 kB)\n",
            "Downloading mysql_connector_python-9.0.0-cp310-cp310-win_amd64.whl (14.3 MB)\n",
            "   ---------------------------------------- 0.0/14.3 MB ? eta -:--:--\n",
            "   ---------------------------------------- 0.0/14.3 MB ? eta -:--:--\n",
            "   ---------------------------------------- 0.0/14.3 MB ? eta -:--:--\n",
            "   ---------------------------------------- 0.0/14.3 MB 108.9 kB/s eta 0:02:12\n",
            "   ---------------------------------------- 0.0/14.3 MB 108.9 kB/s eta 0:02:12\n",
            "   ---------------------------------------- 0.1/14.3 MB 252.2 kB/s eta 0:00:57\n",
            "    --------------------------------------- 0.2/14.3 MB 860.2 kB/s eta 0:00:17\n",
            "   - -------------------------------------- 0.7/14.3 MB 2.1 MB/s eta 0:00:07\n",
            "   -- ------------------------------------- 1.0/14.3 MB 2.8 MB/s eta 0:00:05\n",
            "   --- ------------------------------------ 1.4/14.3 MB 3.4 MB/s eta 0:00:04\n",
            "   ---- ----------------------------------- 1.8/14.3 MB 3.9 MB/s eta 0:00:04\n",
            "   ------ --------------------------------- 2.2/14.3 MB 4.3 MB/s eta 0:00:03\n",
            "   ------- -------------------------------- 2.5/14.3 MB 4.6 MB/s eta 0:00:03\n",
            "   -------- ------------------------------- 2.9/14.3 MB 4.7 MB/s eta 0:00:03\n",
            "   -------- ------------------------------- 3.2/14.3 MB 4.9 MB/s eta 0:00:03\n",
            "   --------- ------------------------------ 3.5/14.3 MB 5.0 MB/s eta 0:00:03\n",
            "   ---------- ----------------------------- 3.9/14.3 MB 5.2 MB/s eta 0:00:03\n",
            "   ----------- ---------------------------- 4.1/14.3 MB 5.2 MB/s eta 0:00:02\n",
            "   ------------ --------------------------- 4.4/14.3 MB 5.2 MB/s eta 0:00:02\n",
            "   ------------- -------------------------- 4.7/14.3 MB 5.2 MB/s eta 0:00:02\n",
            "   ------------- -------------------------- 5.0/14.3 MB 5.3 MB/s eta 0:00:02\n",
            "   -------------- ------------------------- 5.4/14.3 MB 5.4 MB/s eta 0:00:02\n",
            "   ---------------- ----------------------- 5.8/14.3 MB 5.5 MB/s eta 0:00:02\n",
            "   ----------------- ---------------------- 6.1/14.3 MB 5.5 MB/s eta 0:00:02\n",
            "   ----------------- ---------------------- 6.4/14.3 MB 5.6 MB/s eta 0:00:02\n",
            "   ------------------ --------------------- 6.7/14.3 MB 5.6 MB/s eta 0:00:02\n",
            "   ------------------- -------------------- 6.9/14.3 MB 5.6 MB/s eta 0:00:02\n",
            "   -------------------- ------------------- 7.2/14.3 MB 5.7 MB/s eta 0:00:02\n",
            "   -------------------- ------------------- 7.5/14.3 MB 5.6 MB/s eta 0:00:02\n",
            "   --------------------- ------------------ 7.8/14.3 MB 5.6 MB/s eta 0:00:02\n",
            "   ---------------------- ----------------- 8.0/14.3 MB 5.6 MB/s eta 0:00:02\n",
            "   ----------------------- ---------------- 8.3/14.3 MB 5.7 MB/s eta 0:00:02\n",
            "   ----------------------- ---------------- 8.6/14.3 MB 5.6 MB/s eta 0:00:02\n",
            "   ------------------------ --------------- 8.9/14.3 MB 5.6 MB/s eta 0:00:01\n",
            "   ------------------------- -------------- 9.2/14.3 MB 5.6 MB/s eta 0:00:01\n",
            "   -------------------------- ------------- 9.5/14.3 MB 5.7 MB/s eta 0:00:01\n",
            "   --------------------------- ------------ 9.8/14.3 MB 5.6 MB/s eta 0:00:01\n",
            "   ---------------------------- ----------- 10.1/14.3 MB 5.7 MB/s eta 0:00:01\n",
            "   ----------------------------- ---------- 10.4/14.3 MB 6.5 MB/s eta 0:00:01\n",
            "   ------------------------------ --------- 10.8/14.3 MB 6.5 MB/s eta 0:00:01\n",
            "   ------------------------------ --------- 11.1/14.3 MB 6.4 MB/s eta 0:00:01\n",
            "   ------------------------------- -------- 11.4/14.3 MB 6.4 MB/s eta 0:00:01\n",
            "   -------------------------------- ------- 11.7/14.3 MB 6.4 MB/s eta 0:00:01\n",
            "   --------------------------------- ------ 12.1/14.3 MB 6.4 MB/s eta 0:00:01\n",
            "   ---------------------------------- ----- 12.4/14.3 MB 6.3 MB/s eta 0:00:01\n",
            "   ----------------------------------- ---- 12.7/14.3 MB 6.3 MB/s eta 0:00:01\n",
            "   ------------------------------------ --- 13.0/14.3 MB 6.2 MB/s eta 0:00:01\n",
            "   ------------------------------------ --- 13.2/14.3 MB 6.4 MB/s eta 0:00:01\n",
            "   ------------------------------------- -- 13.5/14.3 MB 6.2 MB/s eta 0:00:01\n",
            "   -------------------------------------- - 13.7/14.3 MB 6.1 MB/s eta 0:00:01\n",
            "   -------------------------------------- - 13.9/14.3 MB 6.1 MB/s eta 0:00:01\n",
            "   ---------------------------------------  14.2/14.3 MB 6.1 MB/s eta 0:00:01\n",
            "   ---------------------------------------  14.3/14.3 MB 6.0 MB/s eta 0:00:01\n",
            "   ---------------------------------------  14.3/14.3 MB 6.0 MB/s eta 0:00:01\n",
            "   ---------------------------------------- 14.3/14.3 MB 5.6 MB/s eta 0:00:00\n",
            "Installing collected packages: mysql-connector-python\n",
            "Successfully installed mysql-connector-python-9.0.0\n",
            "Collecting SQLAlchemy\n",
            "  Downloading SQLAlchemy-2.0.35-cp310-cp310-win_amd64.whl.metadata (9.9 kB)\n",
            "Requirement already satisfied: typing-extensions>=4.6.0 in c:\\users\\hp\\anaconda3\\envs\\texts\\lib\\site-packages (from SQLAlchemy) (4.11.0)\n",
            "Collecting greenlet!=0.4.17 (from SQLAlchemy)\n",
            "  Downloading greenlet-3.1.1-cp310-cp310-win_amd64.whl.metadata (3.9 kB)\n",
            "Downloading SQLAlchemy-2.0.35-cp310-cp310-win_amd64.whl (2.1 MB)\n",
            "   ---------------------------------------- 0.0/2.1 MB ? eta -:--:--\n",
            "   ---------------------------------------- 0.0/2.1 MB ? eta -:--:--\n",
            "    --------------------------------------- 0.0/2.1 MB 325.1 kB/s eta 0:00:07\n",
            "   -- ------------------------------------- 0.1/2.1 MB 819.2 kB/s eta 0:00:03\n",
            "   ---------- ----------------------------- 0.5/2.1 MB 3.0 MB/s eta 0:00:01\n",
            "   ------------------ --------------------- 1.0/2.1 MB 4.3 MB/s eta 0:00:01\n",
            "   --------------------------- ------------ 1.4/2.1 MB 5.3 MB/s eta 0:00:01\n",
            "   ------------------------------------ --- 1.9/2.1 MB 6.4 MB/s eta 0:00:01\n",
            "   ---------------------------------------- 2.1/2.1 MB 5.8 MB/s eta 0:00:00\n",
            "Downloading greenlet-3.1.1-cp310-cp310-win_amd64.whl (298 kB)\n",
            "   ---------------------------------------- 0.0/298.4 kB ? eta -:--:--\n",
            "   ---------------------------------------- 298.4/298.4 kB 9.3 MB/s eta 0:00:00\n",
            "Installing collected packages: greenlet, SQLAlchemy\n",
            "Successfully installed SQLAlchemy-2.0.35 greenlet-3.1.1\n"
          ]
        }
      ],
      "source": [
        "!pip install mysql-connector-python\n",
        "!pip install SQLAlchemy"
      ]
    },
    {
      "cell_type": "code",
      "execution_count": 2,
      "metadata": {
        "id": "u2u_4oX5YM_t"
      },
      "outputs": [],
      "source": [
        "from sqlalchemy import create_engine, MetaData, Table, text\n",
        "from sqlalchemy.orm import sessionmaker"
      ]
    },
    {
      "cell_type": "code",
      "execution_count": 10,
      "metadata": {
        "id": "P6zFxLajYNFf"
      },
      "outputs": [],
      "source": [
        "import sqlite3 as sq\n",
        "database = sq.connect(\"company.db\")"
      ]
    },
    {
      "cell_type": "code",
      "execution_count": 11,
      "metadata": {
        "colab": {
          "base_uri": "https://localhost:8080/"
        },
        "id": "OhLb_-pwYNLH",
        "outputId": "d51cb64d-9563-413c-f0e5-662d04a708f3"
      },
      "outputs": [
        {
          "data": {
            "text/plain": [
              "<sqlite3.Cursor at 0x1a099197d40>"
            ]
          },
          "execution_count": 11,
          "metadata": {},
          "output_type": "execute_result"
        }
      ],
      "source": [
        "database.execute('DROP TABLE IF EXISTS COMPANY_EXPENSES')"
      ]
    },
    {
      "cell_type": "code",
      "execution_count": 12,
      "metadata": {},
      "outputs": [],
      "source": [
        "session = database"
      ]
    },
    {
      "cell_type": "code",
      "execution_count": 14,
      "metadata": {
        "colab": {
          "base_uri": "https://localhost:8080/"
        },
        "id": "PcP-e57cYheq",
        "outputId": "916ad7e7-5fd2-4b45-8919-ad9543bbef0e"
      },
      "outputs": [
        {
          "data": {
            "text/plain": [
              "<sqlite3.Cursor at 0x1a099225040>"
            ]
          },
          "execution_count": 14,
          "metadata": {},
          "output_type": "execute_result"
        }
      ],
      "source": [
        "# Create COMPANY_EXPENSES table\n",
        "create_COMPANY_EXPENSES_table = \"\"\"\n",
        "CREATE TABLE IF NOT EXISTS COMPANY_EXPENSES (\n",
        "  expenditure_id INT PRIMARY KEY,\n",
        "  company_name VARCHAR(100),\n",
        "  annual_income INT,\n",
        "  expenses_type VARCHAR(30),\n",
        "  amount INT,\n",
        "  year INT,\n",
        "  department TEXT,\n",
        "  payment_method TEXT\n",
        ");\n",
        "\"\"\"\n",
        "session.execute(create_COMPANY_EXPENSES_table)"
      ]
    },
    {
      "cell_type": "code",
      "execution_count": 20,
      "metadata": {},
      "outputs": [
        {
          "data": {
            "text/plain": [
              "<sqlite3.Cursor at 0x1a099195040>"
            ]
          },
          "execution_count": 20,
          "metadata": {},
          "output_type": "execute_result"
        }
      ],
      "source": [
        "import sqlite3\n",
        "\n",
        "# Connect to the SQLite database (or create it if it doesn't exist)\n",
        "conn = sqlite3.connect('company.db')\n",
        "cursor = conn.cursor()\n",
        "\n",
        "# SQL insert statement\n",
        "sql = '''\n",
        "INSERT INTO COMPANY_EXPENSES (\n",
        "    expenditure_id, company_name, annual_income, expenses_type, amount, year, department, payment_method\n",
        ") VALUES\n",
        "    (1, 'Amazon', 469000000, 'office supplies', 5000000, 2024, 'administration', 'credit card'),\n",
        "    (2, 'Microsoft', 168000000, 'logistics', 9500000, 2024, 'supply chain', 'bank transfer'),\n",
        "    (3, 'Apple', 365000000, 'utilities', 1500000, 2024, 'facilities', 'bank transfer'),\n",
        "    (4, 'Tesla', 5380000, 'Training', 3000000, 2024, 'HR', 'credit card'),\n",
        "    (5, 'Facebook', 1180000000, 'software', 22000000, 2019, 'IT', 'invoice'),\n",
        "    (6, 'Starbucks', 28200000, 'research', 30000, 2021, 'research', 'invoice'),\n",
        "    (7, 'Google', 257000000, 'consulting', 2600000, 2023, 'finance', 'invoice'),\n",
        "    (8, 'Infosys', 86000000, 'marketing', 630000, 2022, 'marketing', 'credit card'),\n",
        "    (9, 'Nike', 4450000, 'travel', 4500000, 2021, 'sales', 'bank transfer'),\n",
        "    (10, 'Coca-Cola', 38700000, 'marketing', 7500000, 2020, 'marketing', 'credit card');\n",
        "'''\n",
        "\n",
        "# Execute the SQL statement\n",
        "cursor.execute(sql)\n"
      ]
    },
    {
      "cell_type": "code",
      "execution_count": 25,
      "metadata": {
        "id": "9RrqhKlBZku7"
      },
      "outputs": [],
      "source": [
        "\n",
        "conn.commit()\n",
        "conn.close()"
      ]
    },
    {
      "cell_type": "code",
      "execution_count": 24,
      "metadata": {
        "id": "BXFMqe6pemUt"
      },
      "outputs": [
        {
          "name": "stdout",
          "output_type": "stream",
          "text": [
            "Requirement already satisfied: pandas in c:\\users\\hp\\anaconda3\\envs\\texts\\lib\\site-packages (2.2.2)\n",
            "Requirement already satisfied: numpy>=1.22.4 in c:\\users\\hp\\anaconda3\\envs\\texts\\lib\\site-packages (from pandas) (1.26.4)\n",
            "Requirement already satisfied: python-dateutil>=2.8.2 in c:\\users\\hp\\anaconda3\\envs\\texts\\lib\\site-packages (from pandas) (2.9.0.post0)\n",
            "Requirement already satisfied: pytz>=2020.1 in c:\\users\\hp\\anaconda3\\envs\\texts\\lib\\site-packages (from pandas) (2024.1)\n",
            "Requirement already satisfied: tzdata>=2022.7 in c:\\users\\hp\\anaconda3\\envs\\texts\\lib\\site-packages (from pandas) (2024.1)\n",
            "Requirement already satisfied: six>=1.5 in c:\\users\\hp\\anaconda3\\envs\\texts\\lib\\site-packages (from python-dateutil>=2.8.2->pandas) (1.16.0)\n"
          ]
        }
      ],
      "source": [
        "!pip install pandas\n",
        "\n",
        "import pandas as pd"
      ]
    },
    {
      "cell_type": "code",
      "execution_count": 27,
      "metadata": {},
      "outputs": [],
      "source": [
        "# Connect to the SQLite database (or create it if it doesn't exist)\n",
        "conn = sqlite3.connect('company.db')\n",
        "\n",
        "# Create a cursor object to execute SQL commands\n",
        "cursor = conn.cursor()"
      ]
    },
    {
      "cell_type": "code",
      "execution_count": 28,
      "metadata": {},
      "outputs": [
        {
          "name": "stdout",
          "output_type": "stream",
          "text": [
            "(1, 'Amazon', 469000000, 'office supplies', 5000000, 2024, 'administration', 'credit card')\n",
            "(2, 'Microsoft', 168000000, 'logistics', 9500000, 2024, 'supply chain', 'bank transfer')\n",
            "(3, 'Apple', 365000000, 'utilities', 1500000, 2024, 'facilities', 'bank transfer')\n",
            "(4, 'Tesla', 5380000, 'Training', 3000000, 2024, 'HR', 'credit card')\n",
            "(5, 'Facebook', 1180000000, 'software', 22000000, 2019, 'IT', 'invoice')\n",
            "(6, 'Starbucks', 28200000, 'research', 30000, 2021, 'research', 'invoice')\n",
            "(7, 'Google', 257000000, 'consulting', 2600000, 2023, 'finance', 'invoice')\n",
            "(8, 'Infosys', 86000000, 'marketing', 630000, 2022, 'marketing', 'credit card')\n",
            "(9, 'Nike', 4450000, 'travel', 4500000, 2021, 'sales', 'bank transfer')\n",
            "(10, 'Coca-Cola', 38700000, 'marketing', 7500000, 2020, 'marketing', 'credit card')\n"
          ]
        }
      ],
      "source": [
        "# Select all data from the football table\n",
        "cursor.execute('SELECT * FROM COMPANY_EXPENSES')\n",
        "rows = cursor.fetchall()\n",
        "\n",
        "# Print the data\n",
        "for row in rows:\n",
        "    print(row)"
      ]
    },
    {
      "cell_type": "code",
      "execution_count": 30,
      "metadata": {},
      "outputs": [],
      "source": [
        "# Connect to the SQLite database (or create it if it doesn't exist)\n",
        "conn = sqlite3.connect('Company.db')\n",
        "\n",
        "# Create a cursor object to execute SQL commands\n",
        "cursor = conn.cursor()"
      ]
    },
    {
      "cell_type": "code",
      "execution_count": 31,
      "metadata": {},
      "outputs": [
        {
          "name": "stdout",
          "output_type": "stream",
          "text": [
            "(1, 'Amazon', 469000000, 'office supplies', 5000000, 2024, 'administration', 'credit card')\n",
            "(2, 'Microsoft', 168000000, 'logistics', 9500000, 2024, 'supply chain', 'bank transfer')\n",
            "(3, 'Apple', 365000000, 'utilities', 1500000, 2024, 'facilities', 'bank transfer')\n",
            "(4, 'Tesla', 5380000, 'Training', 3000000, 2024, 'HR', 'credit card')\n",
            "(5, 'Facebook', 1180000000, 'software', 22000000, 2019, 'IT', 'invoice')\n",
            "(6, 'Starbucks', 28200000, 'research', 30000, 2021, 'research', 'invoice')\n",
            "(7, 'Google', 257000000, 'consulting', 2600000, 2023, 'finance', 'invoice')\n",
            "(8, 'Infosys', 86000000, 'marketing', 630000, 2022, 'marketing', 'credit card')\n",
            "(9, 'Nike', 4450000, 'travel', 4500000, 2021, 'sales', 'bank transfer')\n",
            "(10, 'Coca-Cola', 38700000, 'marketing', 7500000, 2020, 'marketing', 'credit card')\n"
          ]
        }
      ],
      "source": [
        "# Select all data from the football table\n",
        "cursor.execute('SELECT * FROM COMPANY_EXPENSES')\n",
        "rows = cursor.fetchall()\n",
        "\n",
        "# Print the data\n",
        "for row in rows:\n",
        "    print(row)"
      ]
    },
    {
      "cell_type": "code",
      "execution_count": null,
      "metadata": {},
      "outputs": [],
      "source": []
    }
  ],
  "metadata": {
    "colab": {
      "provenance": []
    },
    "kernelspec": {
      "display_name": "Python 3",
      "name": "python3"
    },
    "language_info": {
      "codemirror_mode": {
        "name": "ipython",
        "version": 3
      },
      "file_extension": ".py",
      "mimetype": "text/x-python",
      "name": "python",
      "nbconvert_exporter": "python",
      "pygments_lexer": "ipython3",
      "version": "3.10.14"
    }
  },
  "nbformat": 4,
  "nbformat_minor": 0
}
